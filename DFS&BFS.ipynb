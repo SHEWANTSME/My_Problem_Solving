{
 "cells": [
  {
   "cell_type": "code",
   "execution_count": 18,
   "id": "cae96d22",
   "metadata": {},
   "outputs": [
    {
     "name": "stdout",
     "output_type": "stream",
     "text": [
      "4 5\n",
      "00110\n",
      "00011\n",
      "11111\n",
      "00000\n",
      "1 1 0 0 1 \n",
      "1 1 1 0 0 \n",
      "0 0 0 0 0 \n",
      "1 1 1 1 1 \n",
      "0\n"
     ]
    }
   ],
   "source": [
    "# 음료수 얼려먹기!\n",
    "# python -> connected component 찾는 문제\n",
    "x ,y = map(int, input().split())\n",
    "\n",
    "arr = [list(map(int,input())) for _ in range(x)]\n",
    "visited=[[0]*y for _ in range(x)]\n",
    "\n",
    "\n",
    "#print(visited)\n",
    "dx = [1,0,0,-1]\n",
    "dy = [0,1,-1,0]\n",
    "cnt =0\n",
    "def DFS(xx, yy):\n",
    "    global cnt\n",
    "    if visited[xx][yy]!=0:\n",
    "        return\n",
    "    visited[xx][yy]=1\n",
    "    #cnt+=1\n",
    "    for i in range(4):\n",
    "        nx = xx+dx[i]\n",
    "        ny = yy + dy[i]\n",
    "        return DFS(xx,yy)\n",
    "    #cnt-=1\n",
    "        \n",
    "\n",
    "for i in range(x):\n",
    "    for j in range(y):\n",
    "        if(arr[i][j]==0):\n",
    "            if(visited[i][j]!=1):\n",
    "                DFS(i,j)\n",
    "            else:\n",
    "                cnt+=1\n",
    "            #cnt+=1\n",
    "        \n",
    "    \n",
    "            \n",
    "for i in range(x):\n",
    "    for j in range(y):\n",
    "        print(visited[i][j] , end = \" \")\n",
    "    print()\n",
    "    \n",
    "    \n",
    "print(cnt)\n",
    "# 이런식으로 하면 안되겠당.."
   ]
  },
  {
   "cell_type": "code",
   "execution_count": 19,
   "id": "0b89c905",
   "metadata": {},
   "outputs": [
    {
     "name": "stdout",
     "output_type": "stream",
     "text": [
      "4 5\n",
      "00011\n",
      "00111\n",
      "11111\n",
      "00000\n",
      "2\n"
     ]
    }
   ],
   "source": [
    "def DFS(x, y): # boolean function을 사용\n",
    "    if x<=-1 or x>=n or y<=-1 or y>=m:\n",
    "        return False\n",
    "    else:\n",
    "        if visited[x][y]==0:\n",
    "            visited[x][y] = 1\n",
    "            DFS(x-1,y)\n",
    "            DFS(x, y-1)\n",
    "            DFS(x+1,y)\n",
    "            DFS(x,y+1)\n",
    "            return True\n",
    "        return False\n",
    "            \n",
    "n , m = map(int , input().split())\n",
    "visited = [list(map(int,input())) for _ in range(n)]\n",
    "cnt=0\n",
    "for i in range(n):\n",
    "    for j in range(m):\n",
    "        if(DFS(i,j) == True):\n",
    "            cnt+=1\n",
    "print(cnt)"
   ]
  },
  {
   "cell_type": "markdown",
   "id": "a0bfbbb4",
   "metadata": {},
   "source": [
    "# using c++\n",
    "#include<iostream>\n",
    "#include<algorithm>\n",
    "using namespace std;\n",
    "int n, m;\n",
    "int arr[101][101];\n",
    "bool DFS(int x, int y) {\n",
    "\tif (x <= -1 or x >= n or y >= m or y <= -1) return 0;\n",
    "\tif (arr[x][y] == 0) {\n",
    "\t\tarr[x][y] = 1;\n",
    "\t\tDFS(x - 1, y);\n",
    "\t\tDFS(x + 1, y);\n",
    "\t\tDFS(x, y - 1);\n",
    "\t\tDFS(x, y + 1);\n",
    "\t\treturn 1;\n",
    "\t}return 0;\n",
    "}\n",
    "int main() {\n",
    "\n",
    "        어쩌구저쩌구\n",
    "}"
   ]
  },
  {
   "cell_type": "code",
   "execution_count": 24,
   "id": "8b7032cf",
   "metadata": {},
   "outputs": [
    {
     "name": "stdout",
     "output_type": "stream",
     "text": [
      "4 6\n",
      "101111\n",
      "101010\n",
      "101011\n",
      "111011\n",
      "15\n"
     ]
    }
   ],
   "source": [
    "# 미로탈출\n",
    "n,m= map(int , input().split())\n",
    "arr= [list(map(int , input())) for _ in range(n)]\n",
    "# find minimun path to end\n",
    "# python에선 popleft 하는순간의 값을 return 받을수 있나봄..\n",
    "dx = [0,1,-1,0]\n",
    "dy = [1,0,0,-1]\n",
    "from collections import deque\n",
    "queue = deque()\n",
    "queue.append((0,0)) # queue 쓸때는 tuple로 보통 함\n",
    "while(queue):\n",
    "    x,y = queue.popleft()\n",
    "    for i in range(4):\n",
    "        nx = x + dx[i]\n",
    "        ny = y+dy[i]\n",
    "        if(nx<0 or ny<0 or nx>=n or ny>=m): continue\n",
    "        if arr[nx][ny]==0: continue\n",
    "        if arr[nx][ny]==1:\n",
    "            arr[nx][ny] = arr[x][y]+1\n",
    "            queue.append((nx,ny))\n",
    "print(arr[n-1][m-1])"
   ]
  },
  {
   "cell_type": "code",
   "execution_count": null,
   "id": "5ea77683",
   "metadata": {},
   "outputs": [],
   "source": []
  }
 ],
 "metadata": {
  "kernelspec": {
   "display_name": "Python 3 (ipykernel)",
   "language": "python",
   "name": "python3"
  },
  "language_info": {
   "codemirror_mode": {
    "name": "ipython",
    "version": 3
   },
   "file_extension": ".py",
   "mimetype": "text/x-python",
   "name": "python",
   "nbconvert_exporter": "python",
   "pygments_lexer": "ipython3",
   "version": "3.9.7"
  }
 },
 "nbformat": 4,
 "nbformat_minor": 5
}
