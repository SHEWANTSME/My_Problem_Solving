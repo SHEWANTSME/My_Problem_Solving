{
 "cells": [
  {
   "cell_type": "code",
   "execution_count": 8,
   "id": "62f8d719",
   "metadata": {},
   "outputs": [
    {
     "name": "stdout",
     "output_type": "stream",
     "text": [
      "5\n",
      "R R R U D D\n",
      "뀨 3 4\n"
     ]
    }
   ],
   "source": [
    "# 상하좌우 문제\n",
    "# 지금은 jupyter에서 문제 풀고 있으니까 걍 input으로 받자\n",
    "def go(x,y,i):\n",
    "    if(i>=len(a)):\n",
    "        print(\"뀨\" , x, y)\n",
    "        return\n",
    "    if(a[i]=='R'):\n",
    "        if(y+1>5 or y+1<1 or x<1 or x>5):\n",
    "            go(x,y,i+1)\n",
    "        else:\n",
    "            y+=1\n",
    "            #print(x, y)\n",
    "            go(x,y,i+1)\n",
    "    if(a[i] == 'U'):\n",
    "        if(y>5 or y<1 or x-1<1 or x-1>5):\n",
    "            go(x,y,i+1)\n",
    "        else:\n",
    "            x-=1\n",
    "            #print(x, y)\n",
    "            go(x,y,i+1)\n",
    "    if(a[i] == 'L'):\n",
    "        if(y-1>5 or y-1<1 or x<1 or x>5):\n",
    "            go(x,y,i+1)\n",
    "        else:\n",
    "            y-=1\n",
    "            #print(x, y)\n",
    "            go(x,y,i+1)\n",
    "    if(a[i] == 'D'):\n",
    "        if(y>5 or y<1 or x+1<1 or x+1>5):\n",
    "            go(x,y,i+1)\n",
    "        else:\n",
    "            x+=1\n",
    "            #print(x, y)\n",
    "            go(x,y,i+1)\n",
    "# 누가봐도 더럽게 풀었다는것을 알 수 있다.\n",
    "    \n",
    "    \n",
    "\n",
    "\n",
    "n = int(input())\n",
    "a = list(map(str,input().split()))\n",
    "go(1,1,0)"
   ]
  },
  {
   "cell_type": "code",
   "execution_count": 9,
   "id": "8fa7a766",
   "metadata": {},
   "outputs": [
    {
     "name": "stdout",
     "output_type": "stream",
     "text": [
      "5\n",
      "R R R U D D\n",
      "3 4\n"
     ]
    }
   ],
   "source": [
    "n = int(input())\n",
    "x , y = 1 ,1\n",
    "plans = input().split() # 아 굳이 list로 안넣어도 잘 되넹 ㅇㅅㅇ..\n",
    "dx = [0,1,-1,0]\n",
    "dy = [1,0,0,-1]\n",
    "move_types = ['R', 'D' , 'U','L']\n",
    "for i in plans:\n",
    "    for j in range(4):\n",
    "        if(i == move_types[j]):\n",
    "            nx = x + dx[j]\n",
    "            ny = y + dy[j]\n",
    "    if nx<1 or ny<1 or nx >n or ny>n:\n",
    "        continue\n",
    "    x , y = nx , ny\n",
    "    \n",
    "print(x , y)\n"
   ]
  },
  {
   "cell_type": "code",
   "execution_count": 13,
   "id": "e9633024",
   "metadata": {},
   "outputs": [
    {
     "name": "stdout",
     "output_type": "stream",
     "text": [
      "5\n",
      "11475\n"
     ]
    }
   ],
   "source": [
    "# 예제 4-2 시각\n",
    "cnt=0\n",
    "x = int(input())\n",
    "for i in range(x+1):\n",
    "    for j in range(60):\n",
    "        for k in range(60):\n",
    "            if('3' in str(i) + str(j) + str(k)):\n",
    "                cnt+=1\n",
    "print(cnt)"
   ]
  },
  {
   "cell_type": "code",
   "execution_count": 47,
   "id": "26705fa0",
   "metadata": {},
   "outputs": [
    {
     "name": "stdout",
     "output_type": "stream",
     "text": [
      "d4\n",
      "8\n"
     ]
    }
   ],
   "source": [
    "x = input()\n",
    "y = {'a':1 ,'b':2, 'c':3, 'd':4 , 'e':5 , 'f':6 , 'g':7 , 'h':8}\n",
    "\n",
    "x1=0\n",
    "x2=0\n",
    "for i in y:\n",
    "    if(i == x[0]):\n",
    "        x2=y[i]        \n",
    "        #print(y[i])\n",
    "xx = int(x2)\n",
    "yy = int(x[1])\n",
    "dx = [1,1,-1,-1,-2,-2,2,2]\n",
    "dy = [2,-2,2,-2,1,-1,1,-1]\n",
    "\n",
    "ans = 0\n",
    "for i in range(8):\n",
    "    nx = xx+dx[i]\n",
    "    ny = yy+dy[i]\n",
    "    if(nx>=1 and nx<=8 and ny>=1 and ny<=8):\n",
    "        ans+=1\n",
    "    else : continue\n",
    "print(ans)\n",
    "\n"
   ]
  },
  {
   "cell_type": "code",
   "execution_count": 49,
   "id": "0d612353",
   "metadata": {},
   "outputs": [
    {
     "name": "stdout",
     "output_type": "stream",
     "text": [
      "d4\n",
      "8\n"
     ]
    }
   ],
   "source": [
    "# 답안예시\n",
    "input_data = input()\n",
    "row = int(input_data[1])\n",
    "col = int(ord(input_data[0])) - int(ord('a')) + 1 # 이런게 있는지 몰랐네\n",
    "steps = [(-2,1) , (-1,-2) , (1,-2) , (2,-1) , (2,1),(1,2),(-1,2),(-2,1)]\n",
    "res = 0\n",
    "for i in steps:\n",
    "    nx = row+ i[0]\n",
    "    ny = col + i[1]\n",
    "    if(nx>=1 and nx<=8 and ny>=1 and ny<=8):\n",
    "        res+=1\n",
    "        \n",
    "print(res)\n",
    "    \n"
   ]
  },
  {
   "cell_type": "markdown",
   "id": "ec184902",
   "metadata": {},
   "source": [
    "문제 설명\n",
    "\n",
    "게임 개발\n",
    "문제\n",
    "현민이는 게임 캐릭터가 맵 안에서 움직이는 시스템을 개발 중이다. 캐릭터가 있는 장소는 1 X 1 크기의 정사각형으로 이뤄진 N X M 크기의 직사각형으로, 각각의 칸은 육지 또는 바다이다. 캐릭터는 동서남북 중 한 곳을 바라본다.\n",
    "\n",
    "맵의 각 칸은 (A, B)로 나타낼 수 있고, A는 북쪽으로부터 떨어진 칸의 개수, B는 서쪽으로부터 떨어진 칸의 개수이다. 캐릭터는 상하좌우로 움직일 수 있고, 바다로 되어 있는 공간에는 갈 수 없다. 캐릭터의 움직임을 설정하기 위해 정해 놓은 매뉴얼은 이러하다.\n",
    "\n",
    "현재 위치에서 현재 방향을 기준으로 왼쪽 방향(반시계 방향으로 90도 회전한 방향)부터 차례대로 갈 곳을 정한다.\n",
    "\n",
    "캐릭터의 바로 왼쪽 방향에 아직 가보지 않은 칸이 존재한다면, 왼쪽 방향으로 횐전한 다음 왼쪽으로 한 칸을 전진한다. 왼쪽 방향에 가보지 않은 칸이 없다면, 왼쪽 방향으로 회전만 수행하고 1단계로 돌아간다.\n",
    "\n",
    "만약 네 방향 모두 이미 가본 칸이거나 바다로 되어 있는 칸인 경우에는, 바라보는 방향을 유지한 채로 한 칸 뒤로 가고 1단계로 돌아간다. 단, 이때 뒤쪽 방향이 바다인 칸이라 뒤로 갈 수 없는 경우에는 움직임을 멈춘다.\n",
    "\n",
    "현민이는 위 과정을 반복적으로 수행하면서 캐릭터의 움직임에 이상이 있는지 테스트하려고 한다. 메뉴얼에 따라 캐릭터를 이동시킨 뒤에, 캐릭터가 방문한 칸의 수를 출력하는 프로그램을 만드시오.\n",
    "\n",
    "입력\n",
    "첫째 줄에 맵의 세로 크기 N과 가로 크기 M을 공백으로 구분하여 입력한다.\n",
    "(3 <= N, M <= 50)\n",
    "\n",
    "둘째 줄에 게임 캐릭터가 있는 칸의 좌표 (A, B)와 바라보는 방햔 d가 각각 서로 공백으로 구분하여 주어진다. 방향 d의 값으로는 다음과 같이 4가지가 존재한다.\n",
    "\n",
    "0 : 북쪽\n",
    "1 : 동쪽\n",
    "2 : 남쪽\n",
    "3 : 서쪽\n",
    "\n",
    "셋째 줄부터 맵이 육지인지 바다인지에 대한 정보가 주어진다. N개의 줄에 맵의 상태가 북쪽부터 남쪽 순서대로, 각 줄의 데이터는 서쪽부터 동쪽 순서대로 주어진다. 맵의 외각은 항상 바다로 되어 있다.\n",
    "\n",
    "0 : 육지\n",
    "1 : 바다\n",
    "처음에 게임 캐릭터가 위치한 칸의 상태는 항상 육지이다.\n",
    "\n",
    "출력\n",
    "첫째 줄에 이동을 마친 후 캐릭터가 방문한 칸의 수를 출력한다.\n",
    "\n",
    "입력 예시\n",
    "4 4\n",
    "1 1 0 // (1, 1)에 북쪽(0)을 바라보고 서 있는 캐릭터\n",
    "1 1 1 1\n",
    "1 0 0 1\n",
    "1 1 0 1\n",
    "1 1 1 1\n",
    "\n",
    "출력 예시\n",
    "3\n"
   ]
  },
  {
   "cell_type": "code",
   "execution_count": null,
   "id": "53eccd91",
   "metadata": {},
   "outputs": [],
   "source": []
  },
  {
   "cell_type": "code",
   "execution_count": null,
   "id": "0a4024fe",
   "metadata": {},
   "outputs": [],
   "source": []
  },
  {
   "cell_type": "code",
   "execution_count": 57,
   "id": "18a986c8",
   "metadata": {},
   "outputs": [
    {
     "name": "stdout",
     "output_type": "stream",
     "text": [
      "4 4\n",
      "1 1 0\n",
      "1 1 1 1\n",
      "1 0 0 1\n",
      "1 1 0 1\n",
      "1 1 1 1\n",
      "[[1, 1, 1, 1], [1, 0, 0, 1], [1, 1, 0, 1], [1, 1, 1, 1]]\n",
      "3\n"
     ]
    }
   ],
   "source": [
    "# 게임개발-> Quite hard!\n",
    "x, y = map(int , input().split())\n",
    "a,b,ddir = map(int, input().split())\n",
    "        \n",
    "visited = [[0]*y for _ in range(x)] # 배열 초기화를 이런식으로..\n",
    "#print(arr2)\n",
    "arr = []\n",
    "for i in range(x):\n",
    "    arr.append(list(map(int,input().split())))\n",
    "print(arr)\n",
    "        \n",
    "dx = [-1,0,1,0] # 북 동 남 서\n",
    "dy = [0,1,0,-1]\n",
    "visited[a][b] = 1\n",
    "def turn_left():\n",
    "    global ddir\n",
    "    ddir -=1\n",
    "    if(ddir == -1):\n",
    "        ddir = 3\n",
    "cnt = 1\n",
    "turn_time =0\n",
    "while True: # 이거 재귀적으로 할수있지 않나?\n",
    "    turn_left()\n",
    "    nx = a + dx[ddir]\n",
    "    ny = b + dy[ddir]\n",
    "    if(visited[nx][ny]==0 and arr[nx][ny]==0): # 노 방문 + 육지\n",
    "        visited[nx][ny] =1\n",
    "        a = nx\n",
    "        b = ny\n",
    "        cnt+=1\n",
    "        turn_time = 0\n",
    "        continue\n",
    "    else:\n",
    "        turn_time+=1\n",
    "    if(turn_time ==4):\n",
    "        nx = a - dx[ddir]\n",
    "        ny = b - dy[ddir]\n",
    "        if(arr[nx][ny]==0):\n",
    "            a = nx\n",
    "            b = ny\n",
    "            turn_time = 0\n",
    "        else: break\n",
    "print(cnt)"
   ]
  },
  {
   "cell_type": "code",
   "execution_count": 48,
   "id": "9279d1f5",
   "metadata": {},
   "outputs": [
    {
     "data": {
      "text/plain": [
       "97"
      ]
     },
     "execution_count": 48,
     "metadata": {},
     "output_type": "execute_result"
    }
   ],
   "source": [
    "int(ord('a')) # C++에선 걍 아스키코드로 변환되는데 python에선 ord붙여야함!"
   ]
  },
  {
   "cell_type": "code",
   "execution_count": null,
   "id": "2a58cde0",
   "metadata": {},
   "outputs": [],
   "source": []
  },
  {
   "cell_type": "code",
   "execution_count": null,
   "id": "0e7ae8b4",
   "metadata": {},
   "outputs": [],
   "source": []
  },
  {
   "cell_type": "code",
   "execution_count": null,
   "id": "6ed07085",
   "metadata": {},
   "outputs": [],
   "source": []
  }
 ],
 "metadata": {
  "kernelspec": {
   "display_name": "Python 3 (ipykernel)",
   "language": "python",
   "name": "python3"
  },
  "language_info": {
   "codemirror_mode": {
    "name": "ipython",
    "version": 3
   },
   "file_extension": ".py",
   "mimetype": "text/x-python",
   "name": "python",
   "nbconvert_exporter": "python",
   "pygments_lexer": "ipython3",
   "version": "3.9.7"
  }
 },
 "nbformat": 4,
 "nbformat_minor": 5
}
