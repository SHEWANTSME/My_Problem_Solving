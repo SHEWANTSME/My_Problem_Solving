{
 "cells": [
  {
   "cell_type": "code",
   "execution_count": 12,
   "id": "38d261a6",
   "metadata": {},
   "outputs": [
    {
     "name": "stdout",
     "output_type": "stream",
     "text": [
      "1\n",
      "0 0 999\n",
      "1 0 499\n",
      "1 1 499\n",
      "2 1 399\n",
      "3 1 299\n",
      "4 1 199\n",
      "5 1 99\n",
      "5 2 99\n",
      "6 2 49\n",
      "6 3 49\n",
      "7 3 39\n",
      "8 3 29\n",
      "9 3 19\n",
      "10 3 9\n",
      "10 4 9\n",
      "11 4 4\n",
      "11 5 4\n",
      "12 5 3\n",
      "13 5 2\n",
      "14 5 1\n",
      "15 5 0\n"
     ]
    }
   ],
   "source": [
    "# 예제 3-1은 왜 그리디가 가능한가를 따져볼때\n",
    "# 500 100 50 10 같이 가지고있는 동전중 큰 단위가 항상 작은 단위의 배수가 되므로\n",
    "# 작은단위의 동전들을 종합해서 다른 해가 나올 수 없음 (min개수니까)\n",
    "# BOJ 5585\n",
    "money = [500,100,50,10,5,1]\n",
    "x = int(input())\n",
    "cnt =0\n",
    "ans =0\n",
    "change = 1000 - x\n",
    "while(True):\n",
    "    print(ans, cnt , change)\n",
    "    if(change==0 or cnt>5): break\n",
    "    if(change >= money[cnt]):\n",
    "        change = change -money[cnt]\n",
    "        ans+=1\n",
    "        continue\n",
    "    if(change<money[cnt]):\n",
    "        cnt+=1\n",
    "        continue\n",
    "#print(ans)\n",
    "\n",
    "\n",
    "# -----------이렇게 해도 됨\n",
    "\n",
    "Coin = [500,100,50,10,5,1]\n",
    "\n",
    "N = int(input())\n",
    "N = 1000-N\n",
    "\n",
    "exchange = 0\n",
    "for i in Coin:\n",
    "    exchange += N//i\n",
    "    N=N%i\n",
    "print(exchange)"
   ]
  },
  {
   "cell_type": "code",
   "execution_count": 17,
   "id": "a0ce79bb",
   "metadata": {},
   "outputs": [
    {
     "name": "stdout",
     "output_type": "stream",
     "text": [
      "02378\n",
      "336\n"
     ]
    }
   ],
   "source": [
    "#  곱하기 혹은 더하기\n",
    "x = input()\n",
    "ans =int(x[0])\n",
    "for i in range(1,len(x)):\n",
    "    if(int(x[i-1]) <=1):\n",
    "        ans+=int(x[i])\n",
    "    else:ans*=int(x[i])\n",
    "print(ans)"
   ]
  },
  {
   "cell_type": "code",
   "execution_count": 41,
   "id": "d3e3d1cc",
   "metadata": {},
   "outputs": [
    {
     "name": "stdout",
     "output_type": "stream",
     "text": [
      "11001100110011000001\n",
      "2\n",
      "7\n",
      "8 7\n"
     ]
    }
   ],
   "source": [
    "# BOJ 1439 뒤집기\n",
    "x = input()\n",
    "if(x.count('1') == len(x) or x.count('0') == len(x)):\n",
    "    print(0)\n",
    "    exit(0)\n",
    "fir = int(x[0])\n",
    "if(fir==0): sc = 1\n",
    "else: sc=0\n",
    "\n",
    "ans1 =0\n",
    "for i in range(1,len(x)):\n",
    "    if(int(x[i]) == int(x[i-1])): continue\n",
    "    else:ans1+=1\n",
    "ans2=0\n",
    "idx = -1\n",
    "#print(sc)\n",
    "for i in range(1,len(x)):\n",
    "    if(int(x[i])!=sc): continue\n",
    "    else:\n",
    "        idx = i\n",
    "        break\n",
    "print(idx)\n",
    "for i in range(1,len(x)-1):\n",
    "    if(i >= idx):\n",
    "        if(int(x[i]) == int(x[i+1])):continue\n",
    "        #if(int(x[i] == int(x[i+1]))): continue\n",
    "        else: ans2+=1\n",
    "print(min(ans1, ans2))\n",
    "print(ans1 , ans2)\n"
   ]
  },
  {
   "cell_type": "code",
   "execution_count": 42,
   "id": "1902a26d",
   "metadata": {},
   "outputs": [
    {
     "name": "stdout",
     "output_type": "stream",
     "text": [
      "11001100110011000001\n",
      "4\n"
     ]
    }
   ],
   "source": [
    "x = input()\n",
    "cnt=0\n",
    "for i in range(len(x)-1):\n",
    "    if(x[i] != x[i+1]): cnt+=1\n",
    "print((cnt+1)//2)"
   ]
  }
 ],
 "metadata": {
  "kernelspec": {
   "display_name": "Python 3 (ipykernel)",
   "language": "python",
   "name": "python3"
  },
  "language_info": {
   "codemirror_mode": {
    "name": "ipython",
    "version": 3
   },
   "file_extension": ".py",
   "mimetype": "text/x-python",
   "name": "python",
   "nbconvert_exporter": "python",
   "pygments_lexer": "ipython3",
   "version": "3.9.7"
  }
 },
 "nbformat": 4,
 "nbformat_minor": 5
}
