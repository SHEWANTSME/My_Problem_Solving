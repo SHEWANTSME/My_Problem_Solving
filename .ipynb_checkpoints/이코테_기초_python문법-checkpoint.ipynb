{
 "cells": [
  {
   "cell_type": "code",
   "execution_count": 3,
   "id": "92e4c376",
   "metadata": {},
   "outputs": [
    {
     "name": "stdout",
     "output_type": "stream",
     "text": [
      "[1, 2, 4, 5, 7]\n"
     ]
    }
   ],
   "source": [
    "# 이코테.. 내가 파이썬을 2번째 언어로 사용할 수도 있으니까.. 알아두자\n",
    "a = [1,2,3,3,4,5,6,6,7]\n",
    "remove_set = {3,6}\n",
    "res = [i for i in a if i not in remove_set]\n",
    "print(res)"
   ]
  },
  {
   "cell_type": "code",
   "execution_count": 6,
   "id": "60cd19ef",
   "metadata": {},
   "outputs": [
    {
     "name": "stdout",
     "output_type": "stream",
     "text": [
      "Dont need to know \"python\"\n",
      "['D', 'o', 'n', 't', ' ', 'n', 'e', 'e', 'd', ' ', 't', 'o', ' ', 'k', 'n', 'o', 'w', ' ', '\"', 'p', 'y', 't', 'h', 'o', 'n', '\"'] ('D', 'o', 'n', 't', ' ', 'n', 'e', 'e', 'd', ' ', 't', 'o', ' ', 'k', 'n', 'o', 'w', ' ', '\"', 'p', 'y', 't', 'h', 'o', 'n', '\"')\n"
     ]
    }
   ],
   "source": [
    "x = \"Dont need to know \\\"python\\\"\"\n",
    "print(x)\n",
    "xx = list(x)\n",
    "xxx = tuple(x)\n",
    "print(xx , xxx)"
   ]
  },
  {
   "cell_type": "code",
   "execution_count": 8,
   "id": "ec968166",
   "metadata": {},
   "outputs": [
    {
     "name": "stdout",
     "output_type": "stream",
     "text": [
      "<class 'int'>\n",
      "(2, 3, 4)\n"
     ]
    }
   ],
   "source": [
    "a = (1,2,3,4,5,6,7,8,9)\n",
    "print(type(a[3]))\n",
    "print(a[1:4])"
   ]
  },
  {
   "cell_type": "code",
   "execution_count": null,
   "id": "2e4b4757",
   "metadata": {},
   "outputs": [],
   "source": [
    "WHEN DO WE USE TUPLE?? ->\n",
    "최단경로 ->(비용, 노드번호)형태를 tuple형태로 사용 -> immutable할때?\n",
    "hashing의 key값으로 사용할때 -> 변경이 불가능하므로 list와 다르게 key값으로 사용 가능\n",
    "list보다 메모리 효율적"
   ]
  },
  {
   "cell_type": "code",
   "execution_count": 11,
   "id": "36a57c28",
   "metadata": {},
   "outputs": [
    {
     "name": "stdout",
     "output_type": "stream",
     "text": [
      "yeah\n",
      "{'사과': 'Apple', '바나나': 'Banana', '포도': 'Grape'}\n"
     ]
    }
   ],
   "source": [
    "data = dict()\n",
    "data['사과'] = 'Apple'\n",
    "data['바나나']='Banana'\n",
    "data['포도'] = 'Grape'\n",
    "if '사과' in data:\n",
    "    print('yeah')\n",
    "print(data)"
   ]
  },
  {
   "cell_type": "code",
   "execution_count": 13,
   "id": "909cd5af",
   "metadata": {},
   "outputs": [
    {
     "name": "stdout",
     "output_type": "stream",
     "text": [
      "dict_keys(['사과', '바나나', '포도'])\n",
      "dict_values(['Apple', 'Banana', 'Grape'])\n",
      "dict_items([('사과', 'Apple'), ('바나나', 'Banana'), ('포도', 'Grape')])\n"
     ]
    }
   ],
   "source": [
    "print(data.keys())\n",
    "print(data.values())\n",
    "print(data.items())"
   ]
  },
  {
   "cell_type": "code",
   "execution_count": 17,
   "id": "91a10e1c",
   "metadata": {},
   "outputs": [
    {
     "name": "stdout",
     "output_type": "stream",
     "text": [
      "['Apple', 'Banana', 'Grape']\n",
      "['사과', '바나나', '포도']\n",
      "('사과', '바나나', '포도')\n"
     ]
    }
   ],
   "source": [
    "aa = list(data.values())\n",
    "print(aa)\n",
    "bb = list(data) # default가 key값임\n",
    "print(bb)\n",
    "cc = tuple(data)\n",
    "print(cc)"
   ]
  },
  {
   "cell_type": "code",
   "execution_count": 19,
   "id": "10a6da29",
   "metadata": {},
   "outputs": [
    {
     "name": "stdout",
     "output_type": "stream",
     "text": [
      "{1, 2, 3, 4, 5}\n",
      "{1, 2, 3, 4, 5}\n"
     ]
    }
   ],
   "source": [
    "# 집합 자료형 초기화 방법1\n",
    "d = set([1,1,2,3,4,4,5])\n",
    "print(d)\n",
    "# 2\n",
    "d = {1,1,2,3,4,4,5}\n",
    "print(d) # 중복 알아서 제거"
   ]
  },
  {
   "cell_type": "code",
   "execution_count": 21,
   "id": "653bbcf7",
   "metadata": {},
   "outputs": [
    {
     "name": "stdout",
     "output_type": "stream",
     "text": [
      "{1, 2, 3, 4, 5, 6}\n",
      "{3, 4, 5}\n",
      "{1, 2}\n"
     ]
    }
   ],
   "source": [
    "# 집합은 차집합, 교집합 , 합집합 가능\n",
    "a = {1,2,3,3,4,4,5}\n",
    "b = set([3,4,5,5,6])\n",
    "print(a|b) # 합\n",
    "print(a&b) # 교\n",
    "print(a-b) # 차"
   ]
  },
  {
   "cell_type": "code",
   "execution_count": 28,
   "id": "b8879da8",
   "metadata": {},
   "outputs": [
    {
     "name": "stdout",
     "output_type": "stream",
     "text": [
      "{0, 1, 2, 3, 4, 5, 10, 8}\n"
     ]
    }
   ],
   "source": [
    "a.add(8)\n",
    "a.remove(8)\n",
    "a.update([8,0,10])\n",
    "#a.sort(reverse = True) set object has no attribute sort\n",
    "print(a)"
   ]
  },
  {
   "cell_type": "markdown",
   "id": "f8d82482",
   "metadata": {},
   "source": [
    "완탐으로 시간초과가 예상된다면 \n",
    "(일부 문제는) dp로 풀릴테고(당연함)\n",
    "dp가 메모리 초과 날 것 같다면\n",
    "(일부 문제는)그리디로 한번 생각해보는게(자명)"
   ]
  },
  {
   "cell_type": "code",
   "execution_count": 29,
   "id": "a2a58311",
   "metadata": {},
   "outputs": [
    {
     "name": "stdout",
     "output_type": "stream",
     "text": [
      "30 20 30 10\n"
     ]
    },
    {
     "data": {
      "text/plain": [
       "[30, 20, 30, 10]"
      ]
     },
     "execution_count": 29,
     "metadata": {},
     "output_type": "execute_result"
    }
   ],
   "source": [
    "# 기본 입출력 양식\n",
    "# 5\n",
    "# 65 38 29 10 33\n",
    "list(map(int , input().split()))"
   ]
  },
  {
   "cell_type": "code",
   "execution_count": 34,
   "id": "078c09dd",
   "metadata": {},
   "outputs": [
    {
     "name": "stdout",
     "output_type": "stream",
     "text": [
      "5\n",
      "90 20 10 30 70\n",
      "[90, 70, 30, 20, 10]\n"
     ]
    }
   ],
   "source": [
    "n = int(input())\n",
    "data = list(map(int , input().split()))\n",
    "data.sort(reverse = True)\n",
    "print(data)\n",
    "#data = list(map(int, input().split()))"
   ]
  },
  {
   "cell_type": "code",
   "execution_count": 36,
   "id": "f0ad624c",
   "metadata": {},
   "outputs": [
    {
     "name": "stdout",
     "output_type": "stream",
     "text": [
      "90 30 20 10\n",
      "90 30 20 10\n"
     ]
    }
   ],
   "source": [
    "a ,b ,c ,d = map(int , input().split())\n",
    "print(a,b,c,d)"
   ]
  },
  {
   "cell_type": "code",
   "execution_count": 38,
   "id": "ff7750ea",
   "metadata": {},
   "outputs": [
    {
     "name": "stdout",
     "output_type": "stream",
     "text": [
      "\n"
     ]
    }
   ],
   "source": [
    "import sys\n",
    "x = sys.stdin.readline().rstrip()\n",
    "print(x) # faster input -> enter 누르면 줄바꿈 기호로 입력되니까 rstrip() 써줘야함"
   ]
  },
  {
   "cell_type": "code",
   "execution_count": 40,
   "id": "46747a83",
   "metadata": {},
   "outputs": [
    {
     "name": "stdout",
     "output_type": "stream",
     "text": [
      "success\n"
     ]
    }
   ],
   "source": [
    "#조건부 표현식\n",
    "score = 84\n",
    "result = \"success\"if score >=30 else \"fail\"\n",
    "print(result)"
   ]
  },
  {
   "cell_type": "code",
   "execution_count": 49,
   "id": "00a6dfd1",
   "metadata": {},
   "outputs": [
    {
     "name": "stdout",
     "output_type": "stream",
     "text": [
      "11\n",
      "13\n"
     ]
    }
   ],
   "source": [
    "a = 10\n",
    "def fc():\n",
    "    print(a+1)\n",
    "fc() # 단순참조 ok\n",
    "\n",
    "def FC():\n",
    "    global a # 전역변수를 바꿔야할때는 global을 붙여줘야함\n",
    "    a +=3\n",
    "    print(a)\n",
    "FC()"
   ]
  },
  {
   "cell_type": "code",
   "execution_count": 52,
   "id": "31fe204b",
   "metadata": {},
   "outputs": [
    {
     "name": "stdout",
     "output_type": "stream",
     "text": [
      "[0, 8, 5, 80]\n"
     ]
    }
   ],
   "source": [
    "arr = [1,2,3,4,5] \n",
    "def fun():\n",
    "    global arr\n",
    "    arr= [0,8,5] # global 썼으니 재할당\n",
    "    arr.append(80)\n",
    "fun()\n",
    "print(arr)"
   ]
  },
  {
   "cell_type": "code",
   "execution_count": 54,
   "id": "0bb32ad2",
   "metadata": {},
   "outputs": [
    {
     "name": "stdout",
     "output_type": "stream",
     "text": [
      "11 -5 24 0.375\n"
     ]
    }
   ],
   "source": [
    "# 여러개의 반환값 also possible\n",
    "def OPERATOR(a,b):\n",
    "    add_v = a+b\n",
    "    sub_v = a-b\n",
    "    mul_v = a*b\n",
    "    dic_v = a/b\n",
    "    return add_v , sub_v, mul_v , dic_v\n",
    "a , b , c ,d = OPERATOR(3, 8)\n",
    "print(a , b, c ,d)"
   ]
  },
  {
   "cell_type": "code",
   "execution_count": 57,
   "id": "83fe408d",
   "metadata": {},
   "outputs": [
    {
     "name": "stdout",
     "output_type": "stream",
     "text": [
      "8\n",
      "8\n"
     ]
    }
   ],
   "source": [
    "# using lambda function\n",
    "print((lambda a, b : a+b)(3,5))\n",
    "def add(x, y):\n",
    "    return x+y\n",
    "print(add(3,5))"
   ]
  },
  {
   "cell_type": "code",
   "execution_count": 64,
   "id": "2b8e8b37",
   "metadata": {},
   "outputs": [
    {
     "name": "stdout",
     "output_type": "stream",
     "text": [
      "[('뀨', 10), ('쭈니', 30), ('돼지', 40)]\n",
      "[('뀨', 10), ('쭈니', 30), ('돼지', 40)]\n",
      "[1, 2, 3, 4, 5, 6, 7, 8, 9, 10]\n",
      "[7, 9, 11, 13, 15]\n"
     ]
    }
   ],
   "source": [
    "arr = [('쭈니' , 30) , ('돼지' , 40) , ('뀨' , 10)]\n",
    "def my_key(x):\n",
    "    return x[1]\n",
    "print(sorted(arr, key = my_key))\n",
    "print(sorted(arr , key = lambda x:x[1])) # 간단한 함수는 lambda use\n",
    "\n",
    "# or you can use with lists\n",
    "ls1 = [1,2,3,4,5] \n",
    "ls2 = [6,7,8,9,10]\n",
    "print(ls1+ls2) # 그냥 이어짐 값 자체를 더하고 싶으면\n",
    "res = list(map(lambda x ,y : x+y , ls1, ls2))\n",
    "print(res)\n"
   ]
  },
  {
   "cell_type": "code",
   "execution_count": null,
   "id": "1c1f6429",
   "metadata": {},
   "outputs": [],
   "source": [
    "# 유용한 library\n",
    "내장함수 , : sum() , min() , max() , eval() , sorted() # eval(\"3+5*7\") 하면 38나옴\n",
    "itertools ,  : from itertools import permutations , combinations\n",
    "heapq , \n",
    "bisect , \n",
    "collections , \n",
    "math : 최대공약수 , \n"
   ]
  },
  {
   "cell_type": "code",
   "execution_count": 65,
   "id": "f36ed36d",
   "metadata": {},
   "outputs": [
    {
     "name": "stdout",
     "output_type": "stream",
     "text": [
      "15\n"
     ]
    }
   ],
   "source": [
    "result = sum([1,2,3,4,5])\n",
    "print(result)"
   ]
  },
  {
   "cell_type": "code",
   "execution_count": 67,
   "id": "2261a355",
   "metadata": {},
   "outputs": [
    {
     "data": {
      "text/plain": [
       "1"
      ]
     },
     "execution_count": 67,
     "metadata": {},
     "output_type": "execute_result"
    }
   ],
   "source": [
    "min([3,2,5,6,1])"
   ]
  },
  {
   "cell_type": "code",
   "execution_count": 68,
   "id": "7a2ca417",
   "metadata": {},
   "outputs": [
    {
     "data": {
      "text/plain": [
       "46"
      ]
     },
     "execution_count": 68,
     "metadata": {},
     "output_type": "execute_result"
    }
   ],
   "source": [
    "eval(\"(3+5)*7-10\")"
   ]
  },
  {
   "cell_type": "code",
   "execution_count": 69,
   "id": "7d47505b",
   "metadata": {},
   "outputs": [
    {
     "data": {
      "text/plain": [
       "[1, 4, 5, 8, 9]"
      ]
     },
     "execution_count": 69,
     "metadata": {},
     "output_type": "execute_result"
    }
   ],
   "source": [
    "sorted([9,1,8,5,4])"
   ]
  },
  {
   "cell_type": "code",
   "execution_count": 70,
   "id": "172a5bed",
   "metadata": {},
   "outputs": [
    {
     "data": {
      "text/plain": [
       "[9, 8, 4, 2, 0]"
      ]
     },
     "execution_count": 70,
     "metadata": {},
     "output_type": "execute_result"
    }
   ],
   "source": [
    "sorted([9,8,2,4,0], reverse = True)"
   ]
  },
  {
   "cell_type": "code",
   "execution_count": 71,
   "id": "31d3a6f0",
   "metadata": {},
   "outputs": [
    {
     "data": {
      "text/plain": [
       "[('scolar', 110), ('jake', 30), ('kate', 20), ('pate', 10)]"
      ]
     },
     "execution_count": 71,
     "metadata": {},
     "output_type": "execute_result"
    }
   ],
   "source": [
    "sorted([('jake' , 30), ('kate', 20) , ('pate' , 10) , ('scolar' , 110)] , key = lambda x : x[1] , reverse = True)"
   ]
  },
  {
   "cell_type": "code",
   "execution_count": 73,
   "id": "4865bf64",
   "metadata": {},
   "outputs": [
    {
     "data": {
      "text/plain": [
       "[9, 8, 3, 2, 1]"
      ]
     },
     "execution_count": 73,
     "metadata": {},
     "output_type": "execute_result"
    }
   ],
   "source": [
    "# list와 같은 iterable한 객체는 기본적으로 sort()함수를 내장하고 있다\n",
    "data = [9,1,8,2,3]\n",
    "data.sort(reverse = True)\n",
    "data"
   ]
  },
  {
   "cell_type": "code",
   "execution_count": 80,
   "id": "c991a77f",
   "metadata": {},
   "outputs": [
    {
     "name": "stdout",
     "output_type": "stream",
     "text": [
      "[('a', 'b', 'c'), ('a', 'c', 'b'), ('b', 'a', 'c'), ('b', 'c', 'a'), ('c', 'a', 'b'), ('c', 'b', 'a')]\n",
      "[('a', 'b'), ('a', 'c'), ('b', 'a'), ('b', 'c'), ('c', 'a'), ('c', 'b')]\n",
      "[('a',), ('b',), ('c',)]\n"
     ]
    }
   ],
   "source": [
    "# using itertools\n",
    "from itertools import permutations\n",
    "data = ['a','b','c']\n",
    "result = list(permutations(data,3)) # 3P3 = 3*2*1\n",
    "print(result)\n",
    "print(list(permutations(data,2))) # 3P2 = 3*2\n",
    "print(list(permutations(data,1))) # 3P1 = 3"
   ]
  },
  {
   "cell_type": "code",
   "execution_count": 79,
   "id": "37201d93",
   "metadata": {},
   "outputs": [
    {
     "name": "stdout",
     "output_type": "stream",
     "text": [
      "[('a', 'b', 'c')]\n",
      "[('a', 'b'), ('a', 'c'), ('b', 'c')]\n",
      "[('a',), ('b',), ('c',)]\n"
     ]
    }
   ],
   "source": [
    "from itertools import combinations\n",
    "data = ['a','b','c']\n",
    "print(list(combinations(data ,3))) # 3C3 = 1개 \n",
    "print(list(combinations(data ,2))) # 3C2 = 3개\n",
    "print(list(combinations(data ,1)))# 3C1 = 1개"
   ]
  },
  {
   "cell_type": "code",
   "execution_count": 85,
   "id": "fcfbecbd",
   "metadata": {},
   "outputs": [
    {
     "name": "stdout",
     "output_type": "stream",
     "text": [
      "[('a', 'a', 'a'), ('a', 'a', 'b'), ('a', 'a', 'c'), ('a', 'b', 'a'), ('a', 'b', 'b'), ('a', 'b', 'c'), ('a', 'c', 'a'), ('a', 'c', 'b'), ('a', 'c', 'c'), ('b', 'a', 'a'), ('b', 'a', 'b'), ('b', 'a', 'c'), ('b', 'b', 'a'), ('b', 'b', 'b'), ('b', 'b', 'c'), ('b', 'c', 'a'), ('b', 'c', 'b'), ('b', 'c', 'c'), ('c', 'a', 'a'), ('c', 'a', 'b'), ('c', 'a', 'c'), ('c', 'b', 'a'), ('c', 'b', 'b'), ('c', 'b', 'c'), ('c', 'c', 'a'), ('c', 'c', 'b'), ('c', 'c', 'c')]\n",
      "[('a', 'a'), ('a', 'b'), ('a', 'c'), ('b', 'a'), ('b', 'b'), ('b', 'c'), ('c', 'a'), ('c', 'b'), ('c', 'c')]\n",
      "[('a',), ('b',), ('c',)]\n"
     ]
    }
   ],
   "source": [
    "from itertools import product # 이건 중복순열같은데,, repeat를 붙여줘야함! 안그러면 실행이 안됨\n",
    "data = ['a','b','c']\n",
    "print(list(product(data , repeat=3)))\n",
    "print(list(product(data , repeat=2)))\n",
    "print(list(product(data , repeat=1)))"
   ]
  },
  {
   "cell_type": "code",
   "execution_count": 87,
   "id": "9e21eeb7",
   "metadata": {},
   "outputs": [
    {
     "name": "stdout",
     "output_type": "stream",
     "text": [
      "[('a', 'a'), ('a', 'b'), ('a', 'c'), ('b', 'b'), ('b', 'c'), ('c', 'c')]\n",
      "[('a', 'a', 'a'), ('a', 'a', 'b'), ('a', 'a', 'c'), ('a', 'b', 'b'), ('a', 'b', 'c'), ('a', 'c', 'c'), ('b', 'b', 'b'), ('b', 'b', 'c'), ('b', 'c', 'c'), ('c', 'c', 'c')]\n",
      "[('a', 'a', 'a', 'a'), ('a', 'a', 'a', 'b'), ('a', 'a', 'a', 'c'), ('a', 'a', 'b', 'b'), ('a', 'a', 'b', 'c'), ('a', 'a', 'c', 'c'), ('a', 'b', 'b', 'b'), ('a', 'b', 'b', 'c'), ('a', 'b', 'c', 'c'), ('a', 'c', 'c', 'c'), ('b', 'b', 'b', 'b'), ('b', 'b', 'b', 'c'), ('b', 'b', 'c', 'c'), ('b', 'c', 'c', 'c'), ('c', 'c', 'c', 'c')]\n"
     ]
    }
   ],
   "source": [
    "from itertools import combinations_with_replacement as H # 중복조합\n",
    "data = ['a','b','c']\n",
    "print(list(H(data,2)))# 3H2 = 4C2 = 6\n",
    "print(list(H(data,3))) # 3H3 = 5C3 = 10\n",
    "print(list(H(data,4))) # 3H4 = 6C2 = 15\n"
   ]
  },
  {
   "cell_type": "code",
   "execution_count": null,
   "id": "60d4aa73",
   "metadata": {},
   "outputs": [],
   "source": [
    "# using HEAPQ  == c++의 priority queue와 같다고 한다.\n",
    "그리고 python은 max heap 을 제공하지 않는다 -> should use 반대부호"
   ]
  },
  {
   "cell_type": "code",
   "execution_count": 88,
   "id": "a3c46127",
   "metadata": {},
   "outputs": [
    {
     "name": "stdout",
     "output_type": "stream",
     "text": [
      "[0, 1, 2, 3, 4, 5, 6, 7, 8, 9]\n"
     ]
    }
   ],
   "source": [
    "import heapq\n",
    "def heapsort(iterable):\n",
    "    h = []\n",
    "    result = []\n",
    "    # every 원소 to the heap\n",
    "    for value in iterable:\n",
    "        heapq.heappush(h,value)\n",
    "    # heap에 삽입된 모든 원소를 차례대로 꺼내 담기\n",
    "    for i in range(len(h)):\n",
    "        result.append(heapq.heappop(h))\n",
    "    return result\n",
    "\n",
    "result = heapsort([1,9,2,8,3,7,4,6,5,0])\n",
    "print(result)"
   ]
  },
  {
   "cell_type": "code",
   "execution_count": 89,
   "id": "497e32a1",
   "metadata": {},
   "outputs": [
    {
     "name": "stdout",
     "output_type": "stream",
     "text": [
      "[9, 8, 7, 6, 5, 4, 3, 2, 1, 0]\n"
     ]
    }
   ],
   "source": [
    "import heapq\n",
    "def heapsort(iterable):\n",
    "    h = []\n",
    "    result = []\n",
    "    for value in iterable:\n",
    "        heapq.heappush(h , -value)\n",
    "    for i in range(len(h)):\n",
    "        result.append(-heapq.heappop(h))\n",
    "    return result\n",
    "result = heapsort([1,9,2,8,3,7,4,6,0,5])\n",
    "print(result)"
   ]
  },
  {
   "cell_type": "code",
   "execution_count": 91,
   "id": "d64a041b",
   "metadata": {},
   "outputs": [
    {
     "name": "stdout",
     "output_type": "stream",
     "text": [
      "2\n",
      "4\n"
     ]
    }
   ],
   "source": [
    "# using bisect -> 이진탐색 쉽게 구현하게 해주는 놈!\n",
    "from bisect import bisect_left as L # 정렬된 순서를 유지하면서 list a에 데이터 x를 삽입할 가장 왼쪽 index 찾는 method\n",
    "from bisect import bisect_right as R # 정렬된 순서를 유지하면서 list a에 데이터 x를 삽입할 가장 오른쪽index 찾는 method \n",
    "a = [1,2,4,4,8]\n",
    "x = 4         #       v     <- 저 부분이 bisect_left(a,4)\n",
    "print(L(a,x)) # 1   2   4   4   8\n",
    "print(R(a,x))#                ^   <- 이 부분이 bisect_right(a,4) "
   ]
  },
  {
   "cell_type": "code",
   "execution_count": 98,
   "id": "f9b8108d",
   "metadata": {},
   "outputs": [
    {
     "name": "stdout",
     "output_type": "stream",
     "text": [
      "2\n",
      "6\n"
     ]
    }
   ],
   "source": [
    "# bisect_left 와 bisect_right은 c++의 upperbound\n",
    "def count_by_range(a , lt, rt):\n",
    "    ri = R(a,rt)\n",
    "    li = L(a,lt)\n",
    "    return ri-li\n",
    "a = [1,2,3,3,3,3,4,4,8,9]\n",
    "print(count_by_range(a , 4,4)) # 값이 4 인 data 개수 출력\n",
    "print(count_by_range(a, 1, 3))# 값이 [1,3] 범위에 있는 data 개수 출력 "
   ]
  },
  {
   "cell_type": "code",
   "execution_count": 99,
   "id": "9c00cdca",
   "metadata": {},
   "outputs": [
    {
     "name": "stdout",
     "output_type": "stream",
     "text": [
      "deque([1, 2, 3, 4, 5])\n",
      "[1, 2, 3, 4, 5]\n"
     ]
    }
   ],
   "source": [
    "# python 에서의 queue는 deque라..고 하네? 엥 뭐지\n",
    "# deque는 indexing, slicing은 안된대.\n",
    "from collections import deque\n",
    "data = deque([2,3,4])\n",
    "data.append(5)\n",
    "data.appendleft(1)\n",
    "print(data)\n",
    "print(list(data))"
   ]
  },
  {
   "cell_type": "code",
   "execution_count": 104,
   "id": "e8dd852a",
   "metadata": {},
   "outputs": [
    {
     "name": "stdout",
     "output_type": "stream",
     "text": [
      "1\n",
      "3\n",
      "1\n"
     ]
    }
   ],
   "source": [
    "# collections의 counter는 등장횟수를 세는 기능\n",
    "from collections import Counter\n",
    "counter = Counter(['1','2','3','3','3',4,5,3])\n",
    "print(counter['1'])\n",
    "print(counter['3'])\n",
    "print(counter[3])"
   ]
  },
  {
   "cell_type": "code",
   "execution_count": 106,
   "id": "5b981f38",
   "metadata": {},
   "outputs": [
    {
     "name": "stdout",
     "output_type": "stream",
     "text": [
      "3628800\n",
      "3.0\n",
      "7\n",
      "3.141592653589793\n",
      "2.718281828459045\n"
     ]
    }
   ],
   "source": [
    "# math module\n",
    "import math \n",
    "print(math.factorial(10))\n",
    "print(math.sqrt(9))\n",
    "print(math.gcd(21,14))\n",
    "print(math.pi)\n",
    "print(math.e)"
   ]
  },
  {
   "cell_type": "markdown",
   "id": "51f69781",
   "metadata": {},
   "source": [
    "# python 입출력 향상 기법!"
   ]
  },
  {
   "cell_type": "code",
   "execution_count": 112,
   "id": "552db7f7",
   "metadata": {},
   "outputs": [],
   "source": [
    "import sys\n",
    "x = sys.stdin.readline().rstrip() # jupyter 에선 안되는듯 오른개행 빼야 잘 됨\n"
   ]
  },
  {
   "cell_type": "code",
   "execution_count": 113,
   "id": "f7202f78",
   "metadata": {},
   "outputs": [],
   "source": [
    "import sys\n",
    "sys.setrecursionlimit(10**8) # 10^8 까지 늘린다. 보통 이렇게 하나봐 sys.setrecursionlimit"
   ]
  },
  {
   "cell_type": "code",
   "execution_count": null,
   "id": "26f78fa1",
   "metadata": {},
   "outputs": [],
   "source": [
    "근데 그냥 input_ = sys.stdin.readline().rstrip() 하면 되지 않나? "
   ]
  },
  {
   "cell_type": "code",
   "execution_count": 114,
   "id": "d3526c49",
   "metadata": {},
   "outputs": [],
   "source": [
    "# 또 뭐 정리할거 있으면 정리해두자!"
   ]
  },
  {
   "cell_type": "code",
   "execution_count": 115,
   "id": "5d857827",
   "metadata": {},
   "outputs": [
    {
     "name": "stdout",
     "output_type": "stream",
     "text": [
      "4\n",
      "1 2 3 4\n",
      "4 3 2 1\n",
      "1 2 3 4\n",
      "4 3 2 1\n",
      "[[1, 2, 3, 4], [4, 3, 2, 1], [1, 2, 3, 4], [4, 3, 2, 1]]\n"
     ]
    }
   ],
   "source": [
    "\n",
    "n = int(input()) # n 인풋 \n",
    "board = [list(map(int, input().split())) for _ in range(n)] # n*n arr 이차원\n",
    "dp = [[0] * n for _ in range(n)]\n",
    "print(board)\n"
   ]
  },
  {
   "cell_type": "markdown",
   "id": "0daf8864",
   "metadata": {},
   "source": [
    "https://blog.naver.com/PostView.naver?blogId=wpghks7&logNo=221584113312&redirect=Dlog&widgetTypeCall=true&directAccess=false\n",
    "\n",
    "--> 잘 정리되어 있구만 후후.. 좋아좋아"
   ]
  },
  {
   "cell_type": "markdown",
   "id": "04d494b8",
   "metadata": {},
   "source": [
    "a = input() # 기본 input\n",
    "a = int(input())  # 기본 to integer \n",
    "a = input().split() # 기본 여러개 with \" \" space splited\n",
    "a = map(int , input().split())\n",
    "a = list(map(int,input().split()))\n",
    "a,b,c = map(int , input().split()) # 이러면 a,b,c에 각각 input됨\n",
    "a , *b = map(int, input().split()) # 두번째애부터 끝날때까진 list로 반환됨\n",
    "\n",
    "배열 초기화\n",
    "a = list()\n",
    "for _ in range(10):\n",
    "    a.append(0)\n",
    "a = [ 0 for _ in range(10) ] 이러던가\n",
    "a = [0]*10 이래도 됨 ( 그냥 초기화 할때)\n",
    "\n",
    "\n",
    "5줄에 걸쳐서 a,b,c,d,e반복해서 입력받을때\n",
    "a,b,c,d,e = [int(input()) for _ in range(5)] 이러면 됨\n",
    "\n",
    "2차원배열 입력받기 \n",
    "1.\n",
    "4 6\n",
    "101111\n",
    "101010\n",
    "101011\n",
    "111011\n",
    "이런경우는\n",
    "x, y = map(int,input().split()) 이러고\n",
    "arr = [list(map(int,input()))for _ in range(x)] 이렇게\n",
    "\n",
    "2. \n",
    "4 6\n",
    "0 0 0 0 0 0\n",
    "0 0 0 0 1 0\n",
    "0 0 1 0 5 0\n",
    "0 0 0 0 0 0\n",
    "이런경우는 split()만 추가해 주면 된다\n",
    "x , y = map(int, input().split())\n",
    "arr = [list(map(int,input().split())) for _ in range(x)]\n",
    "\n",
    "빠른 입력\n",
    "import sys\n",
    "input = lambda: sys.stdin.readline().rstrip() 해주면 된다 (마지막이 개행처리되어서 rstrip()해줘야함)"
   ]
  },
  {
   "cell_type": "code",
   "execution_count": 117,
   "id": "12159f7b",
   "metadata": {},
   "outputs": [
    {
     "name": "stdout",
     "output_type": "stream",
     "text": [
      "2 1 2 3 4 5 6 7 8 9 0\n",
      "2 [1, 2, 3, 4, 5, 6, 7, 8, 9, 0]\n"
     ]
    }
   ],
   "source": [
    "a , *b = map(int, input().split())\n",
    "print(a ,b)"
   ]
  },
  {
   "cell_type": "code",
   "execution_count": null,
   "id": "6f05f15d",
   "metadata": {},
   "outputs": [],
   "source": [
    " #https://www.acmicpc.net/problem/6603 이런 문제는 \n",
    "# 이렇게 하면 됨\n",
    "while True:\n",
    "    a, *b = map(int, input().split())\n",
    "    if a == 0:break\n"
   ]
  },
  {
   "cell_type": "code",
   "execution_count": 119,
   "id": "16458f3a",
   "metadata": {},
   "outputs": [
    {
     "name": "stdout",
     "output_type": "stream",
     "text": [
      "4 6\n",
      "111111\n",
      "001001\n",
      "010100\n",
      "001010\n"
     ]
    }
   ],
   "source": [
    "x, y = map(int,input().split()) \n",
    "arr = [list(map(int,input()))for _ in range(x)] \n"
   ]
  },
  {
   "cell_type": "code",
   "execution_count": 121,
   "id": "b51f388f",
   "metadata": {},
   "outputs": [
    {
     "data": {
      "text/plain": [
       "''"
      ]
     },
     "execution_count": 121,
     "metadata": {},
     "output_type": "execute_result"
    }
   ],
   "source": [
    "import sys\n",
    "input = lambda: sys.stdin.readline().rstrip()"
   ]
  }
 ],
 "metadata": {
  "kernelspec": {
   "display_name": "Python 3 (ipykernel)",
   "language": "python",
   "name": "python3"
  },
  "language_info": {
   "codemirror_mode": {
    "name": "ipython",
    "version": 3
   },
   "file_extension": ".py",
   "mimetype": "text/x-python",
   "name": "python",
   "nbconvert_exporter": "python",
   "pygments_lexer": "ipython3",
   "version": "3.9.7"
  }
 },
 "nbformat": 4,
 "nbformat_minor": 5
}
