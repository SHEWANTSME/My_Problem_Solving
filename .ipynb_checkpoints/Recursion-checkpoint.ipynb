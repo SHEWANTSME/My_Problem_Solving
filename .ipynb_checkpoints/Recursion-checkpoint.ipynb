{
 "cells": [
  {
   "cell_type": "code",
   "execution_count": 1,
   "id": "0254f213",
   "metadata": {},
   "outputs": [],
   "source": [
    "# recursion을 늘릴 수 있음\n",
    "import sys\n",
    "sys.setrecursionlimit(10**8) # 10^8 까지 늘린다. "
   ]
  },
  {
   "cell_type": "code",
   "execution_count": 3,
   "id": "0ee8127e",
   "metadata": {},
   "outputs": [
    {
     "name": "stdout",
     "output_type": "stream",
     "text": [
      "반복적 5040\n",
      "재귀적 5040\n"
     ]
    }
   ],
   "source": [
    "# 반복적으로 구현한 n!\n",
    "def fac_iter(n):\n",
    "    res = 1\n",
    "    for i in range(1, n+1):\n",
    "        res *=i\n",
    "    return res\n",
    "\n",
    "# 재귀적 n!\n",
    "def fac_rec(n):\n",
    "    if(n<=1):\n",
    "        return 1\n",
    "    else:\n",
    "        return n*fac_rec(n-1)\n",
    "print('반복적' , fac_iter(7))\n",
    "print('재귀적' , fac_rec(7))"
   ]
  },
  {
   "cell_type": "code",
   "execution_count": 7,
   "id": "efbd0862",
   "metadata": {},
   "outputs": [
    {
     "name": "stdout",
     "output_type": "stream",
     "text": [
      "6\n"
     ]
    }
   ],
   "source": [
    "# euclid 호제법\n",
    "# GCD 구해보자 -> Greatest Common dem\n",
    "def GCD(x , y):\n",
    "    a = x%y\n",
    "    if(a ==0): return y\n",
    "    else: return GCD(y ,a)\n",
    "print(GCD(192,162))\n"
   ]
  },
  {
   "cell_type": "code",
   "execution_count": null,
   "id": "feab1deb",
   "metadata": {},
   "outputs": [],
   "source": []
  },
  {
   "cell_type": "code",
   "execution_count": null,
   "id": "9ba55667",
   "metadata": {},
   "outputs": [],
   "source": []
  },
  {
   "cell_type": "code",
   "execution_count": null,
   "id": "827b0b50",
   "metadata": {},
   "outputs": [],
   "source": []
  },
  {
   "cell_type": "code",
   "execution_count": null,
   "id": "44e76280",
   "metadata": {},
   "outputs": [],
   "source": []
  },
  {
   "cell_type": "code",
   "execution_count": null,
   "id": "374b351f",
   "metadata": {},
   "outputs": [],
   "source": []
  }
 ],
 "metadata": {
  "kernelspec": {
   "display_name": "Python 3 (ipykernel)",
   "language": "python",
   "name": "python3"
  },
  "language_info": {
   "codemirror_mode": {
    "name": "ipython",
    "version": 3
   },
   "file_extension": ".py",
   "mimetype": "text/x-python",
   "name": "python",
   "nbconvert_exporter": "python",
   "pygments_lexer": "ipython3",
   "version": "3.9.7"
  }
 },
 "nbformat": 4,
 "nbformat_minor": 5
}
