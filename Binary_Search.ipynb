{
 "cells": [
  {
   "cell_type": "code",
   "execution_count": 1,
   "id": "345bae7e",
   "metadata": {},
   "outputs": [
    {
     "name": "stdout",
     "output_type": "stream",
     "text": [
      "10 7\n",
      "1 3 5 7 8 11 13 14 15 17\n",
      "4\n"
     ]
    }
   ],
   "source": [
    "# 이진탐색이 어떻게 이뤄지는진 알테니 pass하고\n",
    "import sys\n",
    "sys.setrecursionlimit(10**8)\n",
    "def binary_search(arr, target, start, end):\n",
    "    if start> end:\n",
    "        return None\n",
    "    mid = (start + end)//2\n",
    "    if arr[mid] == target:\n",
    "        return mid\n",
    "    elif arr[mid] > target:\n",
    "        return binary_search(arr,target, start, mid-1)\n",
    "    else:\n",
    "        return binary_search(arr, target, mid+1, end)\n",
    "n, tar = list(map(int , input().split()))\n",
    "arr = list(map(int, input().split()))\n",
    "ans = binary_search(arr, tar, 0 , n-1)\n",
    "if ans == None: \n",
    "    print(\" no any elements remained\")\n",
    "else:\n",
    "    print(ans+1)"
   ]
  },
  {
   "cell_type": "code",
   "execution_count": 3,
   "id": "eb8fe81c",
   "metadata": {},
   "outputs": [
    {
     "name": "stdout",
     "output_type": "stream",
     "text": [
      "2\n",
      "6\n"
     ]
    }
   ],
   "source": [
    "from bisect import bisect_left, bisect_right\n",
    "def count_by_range(a , lt, rt):\n",
    "    ri = bisect_right(a , rt)\n",
    "    li = bisect_left(a, lt)\n",
    "    return ri-li\n",
    "a = [1,2,3,3,3,3,4,4,6,9]\n",
    "print(count_by_range(a, 4,4))\n",
    "print(count_by_range(a,3,4))"
   ]
  }
 ],
 "metadata": {
  "kernelspec": {
   "display_name": "Python 3 (ipykernel)",
   "language": "python",
   "name": "python3"
  },
  "language_info": {
   "codemirror_mode": {
    "name": "ipython",
    "version": 3
   },
   "file_extension": ".py",
   "mimetype": "text/x-python",
   "name": "python",
   "nbconvert_exporter": "python",
   "pygments_lexer": "ipython3",
   "version": "3.9.7"
  }
 },
 "nbformat": 4,
 "nbformat_minor": 5
}
