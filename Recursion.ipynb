{
 "cells": [
  {
   "cell_type": "code",
   "execution_count": 1,
   "id": "234803e7",
   "metadata": {},
   "outputs": [],
   "source": [
    "# recursion을 늘릴 수 있음\n",
    "import sys\n",
    "sys.setrecursionlimit(10**8) # 10^8 까지 늘린다. "
   ]
  },
  {
   "cell_type": "code",
   "execution_count": 3,
   "id": "7de5e439",
   "metadata": {},
   "outputs": [
    {
     "name": "stdout",
     "output_type": "stream",
     "text": [
      "반복적 5040\n",
      "재귀적 5040\n"
     ]
    }
   ],
   "source": [
    "# 반복적으로 구현한 n!\n",
    "def fac_iter(n):\n",
    "    res = 1\n",
    "    for i in range(1, n+1):\n",
    "        res *=i\n",
    "    return res\n",
    "\n",
    "# 재귀적 n!\n",
    "def fac_rec(n):\n",
    "    if(n<=1):\n",
    "        return 1\n",
    "    else:\n",
    "        return n*fac_rec(n-1)\n",
    "print('반복적' , fac_iter(7))\n",
    "print('재귀적' , fac_rec(7))"
   ]
  },
  {
   "cell_type": "code",
   "execution_count": 7,
   "id": "f7596a3e",
   "metadata": {},
   "outputs": [
    {
     "name": "stdout",
     "output_type": "stream",
     "text": [
      "6\n"
     ]
    }
   ],
   "source": [
    "# euclid 호제법\n",
    "# GCD 구해보자 -> Greatest Common dem\n",
    "def GCD(x , y):\n",
    "    a = x%y\n",
    "    if(a ==0): return y\n",
    "    else: return GCD(y ,a)\n",
    "print(GCD(192,162))\n"
   ]
  },
  {
   "cell_type": "code",
   "execution_count": 8,
   "id": "b4a00c51",
   "metadata": {},
   "outputs": [
    {
     "name": "stdout",
     "output_type": "stream",
     "text": [
      "1 2 7 6 8 3 4 5 "
     ]
    }
   ],
   "source": [
    "#DFS\n",
    "def DFS(graph  , v , visited):\n",
    "    visited[v] = True\n",
    "    print(v , end = \" \")\n",
    "    for i in graph[v]:\n",
    "        if not visited[i]:\n",
    "            DFS(graph , i , visited)\n",
    "graph = [[] , [2,3,8] , [1,7] , [1,4,5] , [3,5] , [3,4] , [7] , [2,6,8] , [1,7]]\n",
    "# index 0에대한 배열은 비워둠 보통 1부터 시작이니까\n",
    "visited = [False]*9\n",
    "DFS(graph , 1 , visited)"
   ]
  },
  {
   "cell_type": "markdown",
   "id": "acc95741",
   "metadata": {},
   "source": [
    "# cpp 코드는 이렇게 씀\n",
    "#include<iostream>\n",
    "using namespace std;\n",
    "bool visited[9];\n",
    "vector<int>graph[9];\n",
    "void DFS(int x){\n",
    "    visited[x] = 1;\n",
    "    cout<<x<<\" \";\n",
    "    for(int i=0 ; i<graph[x].size() ; i++){\n",
    "        int y = graph[x][i];\n",
    "        if(not visited[y]) DFS(y)\n",
    "    }\n",
    "}"
   ]
  },
  {
   "cell_type": "code",
   "execution_count": 9,
   "id": "2385d76d",
   "metadata": {},
   "outputs": [
    {
     "name": "stdout",
     "output_type": "stream",
     "text": [
      "1 2 3 8 7 4 5 6 "
     ]
    }
   ],
   "source": [
    "# BFS\n",
    "# python에선 queue 를 쓰려면 \n",
    "from collections import deque\n",
    "\n",
    "def BFS(graph , st, visited):\n",
    "    queue = deque([st])\n",
    "    visited[st] = True\n",
    "    while(queue):\n",
    "        v = queue.popleft()\n",
    "        print(v , end = \" \")\n",
    "        for i in graph[v]:\n",
    "            if not visited[i]:\n",
    "                queue.append(i)\n",
    "                visited[i] = True\n",
    "                \n",
    "graph = [[] , [2,3,8] , [1,7] , [1,4,5] , [3,5] , [3,4] , [7] , [2,6,8] , [1,7]]\n",
    "# index 0에대한 배열은 비워둠 보통 1부터 시작이니까\n",
    "visited = [False]*9\n",
    "BFS(graph , 1 , visited)"
   ]
  },
  {
   "cell_type": "markdown",
   "id": "a5534c04",
   "metadata": {},
   "source": [
    "bool visited[9];\n",
    "vector<int>graph[9];\n",
    "void BFS(int start) {\n",
    "\tqueue<int>q;\n",
    "\tq.push(start);\n",
    "\tvisited[start] = 1;\n",
    "\twhile (not q.empty()) {\n",
    "\t\tint x = q.front(); \n",
    "\t\tq.pop();\n",
    "\t\tfor (int i = 0; i < graph[x].size(); i++) {\n",
    "\t\t\tint y = graph[x][i];\n",
    "\t\t\tif (not visited[y]) {\n",
    "\t\t\t\tq.push(y);\n",
    "\t\t\t\tvisited[y] = 1;\n",
    "\t\t\t}\n",
    "\t\t}\n",
    "\t}\n",
    "}\n",
    "이런식으로 짜면 됨 BFS는"
   ]
  },
  {
   "cell_type": "code",
   "execution_count": null,
   "id": "684596dd",
   "metadata": {},
   "outputs": [],
   "source": []
  },
  {
   "cell_type": "code",
   "execution_count": null,
   "id": "40f7e315",
   "metadata": {},
   "outputs": [],
   "source": []
  },
  {
   "cell_type": "code",
   "execution_count": null,
   "id": "f183225d",
   "metadata": {},
   "outputs": [],
   "source": []
  }
 ],
 "metadata": {
  "kernelspec": {
   "display_name": "Python 3 (ipykernel)",
   "language": "python",
   "name": "python3"
  },
  "language_info": {
   "codemirror_mode": {
    "name": "ipython",
    "version": 3
   },
   "file_extension": ".py",
   "mimetype": "text/x-python",
   "name": "python",
   "nbconvert_exporter": "python",
   "pygments_lexer": "ipython3",
   "version": "3.9.7"
  }
 },
 "nbformat": 4,
 "nbformat_minor": 5
}
